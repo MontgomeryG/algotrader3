{
 "cells": [
  {
   "cell_type": "markdown",
   "metadata": {},
   "source": [
    "#### For future reference when deploying our algorithm."
   ]
  },
  {
   "cell_type": "code",
   "execution_count": null,
   "metadata": {},
   "outputs": [],
   "source": [
    "# Set signal variable\n",
    "signal = 1\n",
    "\n",
    "\n",
    "# Create buy signal, num shares and ticker\n",
    "if signal == 1:\n",
    "    orderSide = \"buy\"\n",
    "else:\n",
    "    orderSide = \"sell\"\n",
    "\n",
    "\n",
    "# Set the ticket symbol and the number of shares to buy\n",
    "ticker = \"AAPL\"\n",
    "number_of_shares = 1\n",
    "\n",
    "\n",
    "# # Make API call\n",
    "# prices = alpaca.get_bars(ticker, \"1Min\").df\n",
    "\n",
    "# # Reorganize the DataFrame\n",
    "# prices = pd.concat([prices], axis=1, keys=[\"AAPL\"])\n",
    "\n",
    "# # Get final closing price\n",
    "# limit_amount = prices[\"AAPL\"][\"close\"][-1]\n",
    "\n",
    "\n",
    "\n",
    "# # Submit order\n",
    "# alpaca.submit_order(\n",
    "#     symbol=\"AAPL\", \n",
    "#     qty=number_of_shares, \n",
    "#     side=orderSide, \n",
    "#     time_in_force=\"gtc\", \n",
    "#     type=\"limit\", \n",
    "#     limit_price=limit_amount\n",
    "# )"
   ]
  },
  {
   "cell_type": "code",
   "execution_count": null,
   "metadata": {},
   "outputs": [],
   "source": [
    "def execute_trades(api, symbol, entry_model, exit_model, features):\n",
    "    entry_signals = entry_model.predict(features)\n",
    "    exit_signals = exit_model.predict(features)\n",
    "\n",
    "    for i in range(1, len(entry_signals)):\n",
    "        current_entry_signal = entry_signals[i]\n",
    "        previous_entry_signal = entry_signals[i - 1]\n",
    "\n",
    "        current_exit_signal = exit_signals[i]\n",
    "        previous_exit_signal = exit_signals[i - 1]\n",
    "\n",
    "        if current_entry_signal == 1 and previous_entry_signal == 0:\n",
    "            api.submit_order(\n",
    "                symbol=symbol,\n",
    "                qty=1,\n",
    "                side='buy',\n",
    "                type='market',\n",
    "                time_in_force='gtc'\n",
    "            )\n",
    "        elif current_entry_signal == -1 and previous_entry_signal == 0:\n",
    "            api.submit_order(\n",
    "                symbol=symbol,\n",
    "                qty=1,\n",
    "                side='sell',\n",
    "                type='market',\n",
    "                time_in_force='gtc'\n",
    "            )\n",
    "\n",
    "        if current_exit_signal == -1 and previous_exit_signal == 1:\n",
    "            api.submit_order(\n",
    "                symbol=symbol,\n",
    "                qty=1,\n",
    "                side='sell',\n",
    "                type='market',\n",
    "                time_in_force='gtc'\n",
    "            )"
   ]
  }
 ],
 "metadata": {
  "language_info": {
   "name": "python"
  }
 },
 "nbformat": 4,
 "nbformat_minor": 2
}
