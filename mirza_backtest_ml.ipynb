{
 "cells": [
  {
   "attachments": {},
   "cell_type": "markdown",
   "metadata": {},
   "source": [
    "# Using Finta for Trading Signals - ML Version\n",
    "\n",
    "In this demo, we will be utilizing the [finta Python library](https://pypi.org/project/finta/) that will power a machine learning trading system.\n",
    "\n",
    "In the previous demo, we built the dataset (X and y) for input into the model. We then `fit` the model and made predictions using the training dataset. In this demo, we'll use that fitted model to make predictions on the test dataset, and calculate total out-of-sample economic performance to the ML-based trading strategy.\n"
   ]
  },
  {
   "attachments": {},
   "cell_type": "markdown",
   "metadata": {},
   "source": [
    "## Starter Code (Done in the Previous Demo)\n",
    "\n",
    "### Build `X` and `y` Datasets"
   ]
  },
  {
   "cell_type": "code",
   "execution_count": 21,
   "metadata": {},
   "outputs": [
    {
     "name": "stderr",
     "output_type": "stream",
     "text": [
      "/var/folders/tl/pmdc2_wx3hx1zkjc2fzswyyc0000gn/T/ipykernel_43283/4036010973.py:15: FutureWarning: The argument 'infer_datetime_format' is deprecated and will be removed in a future version. A strict version of it is now the default, see https://pandas.pydata.org/pdeps/0004-consistent-to-datetime-parsing.html. You can safely remove this argument.\n",
      "  df = pd.read_csv(\n"
     ]
    },
    {
     "data": {
      "text/html": [
       "<div>\n",
       "<style scoped>\n",
       "    .dataframe tbody tr th:only-of-type {\n",
       "        vertical-align: middle;\n",
       "    }\n",
       "\n",
       "    .dataframe tbody tr th {\n",
       "        vertical-align: top;\n",
       "    }\n",
       "\n",
       "    .dataframe thead th {\n",
       "        text-align: right;\n",
       "    }\n",
       "</style>\n",
       "<table border=\"1\" class=\"dataframe\">\n",
       "  <thead>\n",
       "    <tr style=\"text-align: right;\">\n",
       "      <th></th>\n",
       "      <th>sma_fast</th>\n",
       "      <th>sma_slow</th>\n",
       "      <th>ssma</th>\n",
       "      <th>ema</th>\n",
       "      <th>dema</th>\n",
       "      <th>tema</th>\n",
       "      <th>trima</th>\n",
       "    </tr>\n",
       "    <tr>\n",
       "      <th>timestamp</th>\n",
       "      <th></th>\n",
       "      <th></th>\n",
       "      <th></th>\n",
       "      <th></th>\n",
       "      <th></th>\n",
       "      <th></th>\n",
       "      <th></th>\n",
       "    </tr>\n",
       "  </thead>\n",
       "  <tbody>\n",
       "    <tr>\n",
       "      <th>2023-01-04 18:15:00+00:00</th>\n",
       "      <td>127.60875</td>\n",
       "      <td>126.834219</td>\n",
       "      <td>127.174581</td>\n",
       "      <td>126.570881</td>\n",
       "      <td>127.686913</td>\n",
       "      <td>127.565041</td>\n",
       "      <td>126.465085</td>\n",
       "    </tr>\n",
       "  </tbody>\n",
       "</table>\n",
       "</div>"
      ],
      "text/plain": [
       "                            sma_fast    sma_slow        ssma         ema        dema        tema       trima\n",
       "timestamp                                                                                                   \n",
       "2023-01-04 18:15:00+00:00  127.60875  126.834219  127.174581  126.570881  127.686913  127.565041  126.465085"
      ]
     },
     "metadata": {},
     "output_type": "display_data"
    },
    {
     "data": {
      "text/plain": [
       "timestamp\n",
       "2023-01-04 18:00:00+00:00   -1.0\n",
       "2023-01-04 18:15:00+00:00    1.0\n",
       "Name: signal, dtype: float64"
      ]
     },
     "metadata": {},
     "output_type": "display_data"
    }
   ],
   "source": [
    "# Import\n",
    "import pandas as pd\n",
    "import numpy as np\n",
    "import hvplot.pandas\n",
    "from pathlib import Path\n",
    "# Setting these options will allow for reviewing more of the DataFrames\n",
    "pd.set_option('display.max_rows', 2000)\n",
    "pd.set_option('display.max_columns', 2000)\n",
    "pd.set_option('display.width', 1000)\n",
    "# Import the finta Python library and the TA module\n",
    "from finta import TA\n",
    "# ## Import the CSV file and create the Pandas DataFrame\n",
    "# Read in CSV file in from the resources folder into a Pandas DataFrame\n",
    "# Set the date as the DateTimeIndex\n",
    "df = pd.read_csv(\n",
    "    Path(\"../algotrader2/resources/aapl_15min_df.csv\"),\n",
    "    index_col = \"timestamp\", \n",
    "    parse_dates = True, \n",
    "    infer_datetime_format = True\n",
    ")\n",
    "# Use the pct_change function to generate the returns from \"close\"\n",
    "df[\"actual_returns\"] = df[\"close\"].pct_change()\n",
    "# Drop all NaN values from the DataFrame\n",
    "df = df.dropna()\n",
    "# Generate the Input Features, X\n",
    "# Create a simple moving average (SMA) using a window size of 4. \n",
    "# Assign this to a column called `sma_fast`\n",
    "short_window = 4\n",
    "df['sma_fast'] = TA.SMA(df, 4)\n",
    "# Create a simple moving average (SMA) using a window size of 100. \n",
    "# Assign this to a column called `sma_slow`\n",
    "long_window = 100\n",
    "df['sma_slow'] = df['close'].rolling(window=long_window).mean()\n",
    "# Create additional technical indicators\n",
    "df[\"ssma\"] = TA.SSMA(df)\n",
    "df[\"ema\"] = TA.EMA(df, 50)\n",
    "df[\"dema\"] = TA.DEMA(df)\n",
    "df[\"tema\"] = TA.TEMA(df)\n",
    "df[\"trima\"] = TA.TRIMA(df)\n",
    "# Drop the NaNs using dropna()\n",
    "df = df.dropna()\n",
    "# Assign a copy of the technical variable columns to a new DataFrame called `X` and lag it.\n",
    "X = df[['sma_fast', 'sma_slow', 'ssma', 'ema', 'dema', 'tema', 'trima']].shift().dropna().copy()\n",
    "# Initialize the new `Signal` column\n",
    "df['signal'] = 0.0\n",
    "# Generate signal to buy stock long\n",
    "df.loc[(df['actual_returns'] >= 0), 'signal'] = 1\n",
    "# Generate signal to sell stock short\n",
    "df.loc[(df['actual_returns'] < 0), 'signal'] = -1\n",
    "df.tail(3)\n",
    "# Copy the new \"signal\" column to a new Series called `y`.\n",
    "y = df['signal']\n",
    "display(X.head(1))\n",
    "display(y.head(2))"
   ]
  },
  {
   "attachments": {},
   "cell_type": "markdown",
   "metadata": {},
   "source": [
    "## Starter Code (Done in the Previous Demo): \n",
    "\n",
    "### Split the Data into Training and Test Datasets"
   ]
  },
  {
   "cell_type": "code",
   "execution_count": 22,
   "metadata": {},
   "outputs": [
    {
     "name": "stdout",
     "output_type": "stream",
     "text": [
      "2023-01-04 18:15:00+00:00\n",
      "2023-07-04 18:15:00+00:00\n"
     ]
    }
   ],
   "source": [
    "# Import the neccessary Date function\n",
    "from pandas.tseries.offsets import DateOffset\n",
    "\n",
    "# Use the following code to select the start of the training period: `training_begin = X.index.min()`\n",
    "training_begin = X.index.min()\n",
    "print(training_begin)\n",
    "\n",
    "# Use the following code to select the ending period for the training data: `training_end = X.index.min() + DateOffset(months=3)`\n",
    "training_end = X.index.min() + DateOffset(months=6)\n",
    "print(training_end)\n",
    "\n",
    "# Generate the X_train and y_train DataFrames using loc to select the rows from `training_begin` up to `training_end`\n",
    "# Hint: Use `loc[training_begin:training_end]` for X_train and y_train\n",
    "X_train = X.loc[training_begin:training_end]\n",
    "y_train = y.loc[training_begin:training_end]\n",
    "\n",
    "# Generate the X_test and y_test DataFrames using loc to select from `training_end` to the last row in the DataFrame.\n",
    "# Hint: Use `loc[training_end:]` for X_test and y_test\n",
    "X_test = X.loc[training_end:]\n",
    "y_test = y.loc[training_end:]\n",
    "\n",
    "# Use StandardScaler to scale the X_train and X_test data.\n",
    "from sklearn.preprocessing import StandardScaler\n",
    "scaler = StandardScaler()\n",
    "X_scaler = scaler.fit(X_train)\n",
    "X_train_scaled = X_scaler.transform(X_train)\n",
    "X_test_scaled = X_scaler.transform(X_test)\n",
    "\n",
    "from imblearn.over_sampling import RandomOverSampler\n",
    "# Use RandomOverSampler to resample the datase using random_state=1\n",
    "ros = RandomOverSampler(random_state=1)\n",
    "X_resampled, y_resampled = ros.fit_resample(X_train_scaled, y_train)"
   ]
  },
  {
   "cell_type": "code",
   "execution_count": 23,
   "metadata": {},
   "outputs": [
    {
     "data": {
      "text/plain": [
       "array([[-2.10783477, -2.1303081 , -2.13210088, ..., -2.10346979,\n",
       "        -2.11111255, -2.17059431],\n",
       "       [-2.12041573, -2.1325839 , -2.13150663, ..., -2.11067492,\n",
       "        -2.12068942, -2.16758852],\n",
       "       [-2.12827472, -2.13491777, -2.12988675, ..., -2.11252975,\n",
       "        -2.12210638, -2.16437878],\n",
       "       ...,\n",
       "       [ 0.00449028,  0.03062276, -0.00329169, ...,  0.00674204,\n",
       "         0.00585149, -0.01616863],\n",
       "       [ 1.03224602,  1.04883789,  1.03381936, ...,  1.03114452,\n",
       "         1.0294061 ,  1.02834938],\n",
       "       [-0.56424893, -0.4864627 , -0.56826472, ..., -0.56587933,\n",
       "        -0.56329114, -0.57060526]])"
      ]
     },
     "execution_count": 23,
     "metadata": {},
     "output_type": "execute_result"
    }
   ],
   "source": [
    "X_resampled"
   ]
  },
  {
   "cell_type": "code",
   "execution_count": 24,
   "metadata": {},
   "outputs": [
    {
     "data": {
      "text/plain": [
       "0       1.0\n",
       "1       1.0\n",
       "2      -1.0\n",
       "3      -1.0\n",
       "4      -1.0\n",
       "       ... \n",
       "8087   -1.0\n",
       "8088   -1.0\n",
       "8089   -1.0\n",
       "8090   -1.0\n",
       "8091   -1.0\n",
       "Name: signal, Length: 8092, dtype: float64"
      ]
     },
     "execution_count": 24,
     "metadata": {},
     "output_type": "execute_result"
    }
   ],
   "source": [
    "y_resampled"
   ]
  },
  {
   "attachments": {},
   "cell_type": "markdown",
   "metadata": {},
   "source": [
    "### Train and Generate Trade Predictions"
   ]
  },
  {
   "cell_type": "code",
   "execution_count": 25,
   "metadata": {},
   "outputs": [
    {
     "name": "stdout",
     "output_type": "stream",
     "text": [
      "              precision    recall  f1-score   support\n",
      "\n",
      "        -1.0       0.52      0.33      0.41      4046\n",
      "         1.0       0.51      0.69      0.59      4046\n",
      "\n",
      "    accuracy                           0.51      8092\n",
      "   macro avg       0.51      0.51      0.50      8092\n",
      "weighted avg       0.51      0.51      0.50      8092\n",
      "\n"
     ]
    }
   ],
   "source": [
    "# Create the classifier model.\n",
    "from sklearn.svm import SVC\n",
    "model = SVC()\n",
    " \n",
    "# Fit the model to the data using X_train_scaled and y_train\n",
    "model = model.fit(X_resampled, y_resampled)\n",
    "\n",
    "# Use the trained model to predict the trading signals for the training data.\n",
    "training_signal_predictions = model.predict(X_resampled)\n",
    "\n",
    "# Evaluate the model using a classification report\n",
    "from sklearn.metrics import classification_report\n",
    "training_report = classification_report(y_resampled, training_signal_predictions)\n",
    "print(training_report)"
   ]
  },
  {
   "attachments": {},
   "cell_type": "markdown",
   "metadata": {},
   "source": [
    "## New Code: Backtest the Trading Algorithm\n",
    "\n",
    "In this section, we will use the testing data to backtest the trading algorithm using the trained machine learning model. \n",
    "\n",
    "* Use the trained model to predict the trading signals for the testing data.\n",
    "* Evaluate the model's ability to predict the trading signal for the testing data using a classification report\n",
    "* Create a new empty predictions DataFrame using code provided below.\n",
    "* Calculate and plot the cumulative returns for the `actual_returns` and the `trading_algorithm_returns`"
   ]
  },
  {
   "cell_type": "code",
   "execution_count": 26,
   "metadata": {},
   "outputs": [
    {
     "data": {
      "text/plain": [
       "array([[1.94378149, 2.00550742, 1.949753  , ..., 1.94298708, 1.94431799,\n",
       "        1.95377069],\n",
       "       [1.93440321, 2.00573882, 1.94527776, ..., 1.92911702, 1.92526112,\n",
       "        1.95248217],\n",
       "       [1.92580646, 2.00597016, 1.94150823, ..., 1.91992935, 1.91413669,\n",
       "        1.9512689 ],\n",
       "       ...,\n",
       "       [1.36736303, 1.44366059, 1.37082103, ..., 1.36825614, 1.36453152,\n",
       "        1.36148915],\n",
       "       [1.3662689 , 1.44201622, 1.37063461, ..., 1.36684308, 1.36337237,\n",
       "        1.36310467],\n",
       "       [1.36486216, 1.4402937 , 1.36970454, ..., 1.36336347, 1.35941646,\n",
       "        1.3647829 ]])"
      ]
     },
     "execution_count": 26,
     "metadata": {},
     "output_type": "execute_result"
    }
   ],
   "source": [
    "X_test_scaled"
   ]
  },
  {
   "cell_type": "code",
   "execution_count": null,
   "metadata": {},
   "outputs": [],
   "source": []
  },
  {
   "cell_type": "code",
   "execution_count": 27,
   "metadata": {},
   "outputs": [
    {
     "name": "stdout",
     "output_type": "stream",
     "text": [
      "              precision    recall  f1-score   support\n",
      "\n",
      "        -1.0       0.48      0.19      0.27      4076\n",
      "         1.0       0.53      0.81      0.64      4517\n",
      "\n",
      "    accuracy                           0.52      8593\n",
      "   macro avg       0.50      0.50      0.46      8593\n",
      "weighted avg       0.51      0.52      0.47      8593\n",
      "\n"
     ]
    }
   ],
   "source": [
    "# Evaluate the model's ability to predict the trading signal for the testing data using a classification report\n",
    "\n",
    "testing_signal_predictions = model.predict(X_test_scaled)\n",
    "\n",
    "training_report = classification_report(y_test, testing_signal_predictions)\n",
    "print(training_report)"
   ]
  },
  {
   "cell_type": "code",
   "execution_count": 28,
   "metadata": {},
   "outputs": [
    {
     "data": {
      "text/plain": [
       "array([1., 1., 1., ..., 1., 1., 1.])"
      ]
     },
     "execution_count": 28,
     "metadata": {},
     "output_type": "execute_result"
    }
   ],
   "source": [
    "testing_signal_predictions"
   ]
  },
  {
   "cell_type": "code",
   "execution_count": 29,
   "metadata": {},
   "outputs": [
    {
     "data": {
      "text/plain": [
       "predicted_returns\n",
       " 1.0    6973\n",
       "-1.0    1620\n",
       "Name: count, dtype: int64"
      ]
     },
     "execution_count": 29,
     "metadata": {},
     "output_type": "execute_result"
    }
   ],
   "source": [
    "# Create a new empty predictions DataFrame using code provided below.\n",
    "predictions_df = pd.DataFrame(index=X_test.index)\n",
    "predictions_df['predicted_returns'] = testing_signal_predictions\n",
    "predictions_df['predicted_returns'].value_counts()"
   ]
  },
  {
   "cell_type": "code",
   "execution_count": 30,
   "metadata": {},
   "outputs": [
    {
     "data": {
      "text/html": [
       "<div>\n",
       "<style scoped>\n",
       "    .dataframe tbody tr th:only-of-type {\n",
       "        vertical-align: middle;\n",
       "    }\n",
       "\n",
       "    .dataframe tbody tr th {\n",
       "        vertical-align: top;\n",
       "    }\n",
       "\n",
       "    .dataframe thead th {\n",
       "        text-align: right;\n",
       "    }\n",
       "</style>\n",
       "<table border=\"1\" class=\"dataframe\">\n",
       "  <thead>\n",
       "    <tr style=\"text-align: right;\">\n",
       "      <th></th>\n",
       "      <th>predicted_returns</th>\n",
       "      <th>actual_returns</th>\n",
       "      <th>trading_algorithm_returns</th>\n",
       "    </tr>\n",
       "    <tr>\n",
       "      <th>timestamp</th>\n",
       "      <th></th>\n",
       "      <th></th>\n",
       "      <th></th>\n",
       "    </tr>\n",
       "  </thead>\n",
       "  <tbody>\n",
       "    <tr>\n",
       "      <th>2023-07-05 08:00:00+00:00</th>\n",
       "      <td>1.0</td>\n",
       "      <td>-0.003378</td>\n",
       "      <td>-0.003378</td>\n",
       "    </tr>\n",
       "    <tr>\n",
       "      <th>2023-07-05 08:15:00+00:00</th>\n",
       "      <td>1.0</td>\n",
       "      <td>0.000156</td>\n",
       "      <td>0.000156</td>\n",
       "    </tr>\n",
       "    <tr>\n",
       "      <th>2023-07-05 08:30:00+00:00</th>\n",
       "      <td>1.0</td>\n",
       "      <td>-0.000417</td>\n",
       "      <td>-0.000417</td>\n",
       "    </tr>\n",
       "    <tr>\n",
       "      <th>2023-07-05 08:45:00+00:00</th>\n",
       "      <td>1.0</td>\n",
       "      <td>-0.001304</td>\n",
       "      <td>-0.001304</td>\n",
       "    </tr>\n",
       "    <tr>\n",
       "      <th>2023-07-05 09:00:00+00:00</th>\n",
       "      <td>1.0</td>\n",
       "      <td>-0.001567</td>\n",
       "      <td>-0.001567</td>\n",
       "    </tr>\n",
       "    <tr>\n",
       "      <th>...</th>\n",
       "      <td>...</td>\n",
       "      <td>...</td>\n",
       "      <td>...</td>\n",
       "    </tr>\n",
       "    <tr>\n",
       "      <th>2024-01-16 23:45:00+00:00</th>\n",
       "      <td>1.0</td>\n",
       "      <td>0.000328</td>\n",
       "      <td>0.000328</td>\n",
       "    </tr>\n",
       "    <tr>\n",
       "      <th>2024-01-17 00:00:00+00:00</th>\n",
       "      <td>1.0</td>\n",
       "      <td>0.000000</td>\n",
       "      <td>0.000000</td>\n",
       "    </tr>\n",
       "    <tr>\n",
       "      <th>2024-01-17 00:15:00+00:00</th>\n",
       "      <td>1.0</td>\n",
       "      <td>-0.000218</td>\n",
       "      <td>-0.000218</td>\n",
       "    </tr>\n",
       "    <tr>\n",
       "      <th>2024-01-17 00:30:00+00:00</th>\n",
       "      <td>1.0</td>\n",
       "      <td>-0.000601</td>\n",
       "      <td>-0.000601</td>\n",
       "    </tr>\n",
       "    <tr>\n",
       "      <th>2024-01-17 00:45:00+00:00</th>\n",
       "      <td>1.0</td>\n",
       "      <td>-0.000055</td>\n",
       "      <td>-0.000055</td>\n",
       "    </tr>\n",
       "  </tbody>\n",
       "</table>\n",
       "<p>8593 rows × 3 columns</p>\n",
       "</div>"
      ],
      "text/plain": [
       "                           predicted_returns  actual_returns  trading_algorithm_returns\n",
       "timestamp                                                                              \n",
       "2023-07-05 08:00:00+00:00                1.0       -0.003378                  -0.003378\n",
       "2023-07-05 08:15:00+00:00                1.0        0.000156                   0.000156\n",
       "2023-07-05 08:30:00+00:00                1.0       -0.000417                  -0.000417\n",
       "2023-07-05 08:45:00+00:00                1.0       -0.001304                  -0.001304\n",
       "2023-07-05 09:00:00+00:00                1.0       -0.001567                  -0.001567\n",
       "...                                      ...             ...                        ...\n",
       "2024-01-16 23:45:00+00:00                1.0        0.000328                   0.000328\n",
       "2024-01-17 00:00:00+00:00                1.0        0.000000                   0.000000\n",
       "2024-01-17 00:15:00+00:00                1.0       -0.000218                  -0.000218\n",
       "2024-01-17 00:30:00+00:00                1.0       -0.000601                  -0.000601\n",
       "2024-01-17 00:45:00+00:00                1.0       -0.000055                  -0.000055\n",
       "\n",
       "[8593 rows x 3 columns]"
      ]
     },
     "execution_count": 30,
     "metadata": {},
     "output_type": "execute_result"
    }
   ],
   "source": [
    "# Add in actual returns and calculate trading returns\n",
    "predictions_df['actual_returns'] = df['actual_returns']\n",
    "predictions_df['trading_algorithm_returns'] = predictions_df['actual_returns'] * predictions_df['predicted_returns']\n",
    "predictions_df"
   ]
  },
  {
   "cell_type": "code",
   "execution_count": 31,
   "metadata": {},
   "outputs": [
    {
     "data": {
      "text/plain": [
       "<Axes: xlabel='timestamp'>"
      ]
     },
     "execution_count": 31,
     "metadata": {},
     "output_type": "execute_result"
    },
    {
     "data": {
      "image/png": "[encoded data removed]",
      "text/plain": [
       "<Figure size 640x480 with 1 Axes>"
      ]
     },
     "metadata": {},
     "output_type": "display_data"
    }
   ],
   "source": [
    "# Calculate and plot the cumulative returns for the `actual_returns` and the `trading_algorithm_returns`\n",
    "(1 + predictions_df[['actual_returns', 'trading_algorithm_returns']]).cumprod().plot()"
   ]
  }
 ],
 "metadata": {
  "kernelspec": {
   "display_name": "Python 3",
   "language": "python",
   "name": "python3"
  },
  "language_info": {
   "codemirror_mode": {
    "name": "ipython",
    "version": 3
   },
   "file_extension": ".py",
   "mimetype": "text/x-python",
   "name": "python",
   "nbconvert_exporter": "python",
   "pygments_lexer": "ipython3",
   "version": "3.11.5"
  }
 },
 "nbformat": 4,
 "nbformat_minor": 4
}
