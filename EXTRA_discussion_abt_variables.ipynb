{
 "cells": [
  {
   "cell_type": "markdown",
   "metadata": {},
   "source": [
    "### Clearly Defining Training Variables\n",
    "\n",
    "When brainstorming some of the potential training variables, we realized that a lot of them are dependent upon ONE of those variables. \n",
    "\n",
    "For example, volume weighted average price and all moving averages can be derrived from the time and sales. Therefore, we will go back through our list of variables and group them together based on if they are derrivatives of each other, which will make it more clear as to which data we need find out in the web.  "
   ]
  },
  {
   "cell_type": "markdown",
   "metadata": {},
   "source": [
    "- Time and Sales (price, size, exchange, time, bid, ask)\n",
    "    - DERRIVATIVES OF TIME AND SALES: \n",
    "        - Speed of tape \n",
    "        - Acceleration of tape\n",
    "        - VWAP\n",
    "        - AVWAP\n",
    "        - Historical Volume\n",
    "        - Simple Moving Averages (10,20,50,200)\n",
    "        - Exponential Moving Averages(9,13)\n",
    "        - Other Moving Averages\n",
    "        - Candle Sticks (on multiple timeframes)\n",
    "        - Wicks on those candle sticks? Traders always use wicks to make decisions. Will the algo be able to just make good decisions? Or would We have to program in a function that captures the \"wicks\" and then we feed the magnitude of the wick on the given time frame to the ML algo.\n",
    "        - Support and resistance levels.\n",
    "        - Volatility\n",
    "        - Psychological Levels ($0.25, $0.5, I think the algo should pick up on these.)\n",
    "\n",
    "\n",
    "- Full Level 2: We don't want to rely only on orders that have gone through; it is not the full picture. We also need to account for all of the orders that were PUT OUT THERE, filled or not. These orders are visually represented to traders via the Level 2 board, which shows the price on the bid and ask, the number of shares available, and the exchange. The orders are stacked on top of each other and seperated based on who placed the order. The same person can place multiple orders on different exchanges. \n",
    "    - Often, the stock price is manipulated using the Level 2. They may place a large order on the Ask, making other sellers want to front-run that order by placing sell orders at a cheaper price than where that large order is at. All the while the large seller has bids at a lower price since they wanted to long the stock in the first place. The seller puts a bit sell order out so that the price moves down and fills them on a better price lower. Once their buy orders get filled, they remove their large sell order, and the price naturally trends back to the upside.\n",
    "    - So we need to account for the bids/asks. Maybe not ALL of them, but at least the bids and asks that are a certain distance away from price at any given time. So if the price is at $15, we will include all of the bids and asks from $12 to $18, or if the Average True Range is high, then from $9 to $20.... \n",
    "        - We actually want to include all of them, becauase for cheaper stocks, they may double in price, so if we set our algo to only capture bids/asks at a percentage away from the price that is less that %100, then we will miss out on the rest of the critical information. \n",
    "    - *This idea leads me to think that it is a good idea to create different algorithms. One algorithm that trades cheap stocks that move crazily and can double or even triple. And another angorithm that trades large-cap stocks that tend to trade in a somewhat predictable range on a given day.*\n",
    "- Options activity(maybe only on the prices that are \"close\" to current price, becuase it will be a lot of data...)\n",
    "- Options chain is very important. I like the idea of including at least the nearby strike prices.\n",
    "- Implied Volatility if those options are too much data to handle.\n",
    "- Sector, what other stocks are doing in the same sector, and overall movement of other sectors\n",
    "- News\n",
    "- Short interest, days to cover\n",
    "- Easy or hard to borrow\n",
    "- Imbalances \n",
    "- Fibonaccis? \n",
    "- Shares available to trade\n",
    "- Institutional ownership, Insider buying(yes or no? idk...)\n",
    "- Market capitalization\n",
    "- Whales buying(\"Unusual Whales\" Website)...SEC filings\n",
    "- Live chat sentiment scores\n",
    "- What about the percentage gains of some of the mega-cap stocks/market leaders\n",
    "- Crypto movement.\n",
    "- Fear/Greed index\n",
    "\n",
    "\n",
    "*This list shall be refined over and over again.*\n",
    "\n",
    "Let's begin with a more in-depth discussions about time-and sales data. "
   ]
  },
  {
   "cell_type": "markdown",
   "metadata": {},
   "source": [
    "### Time and Sales\n",
    "\n",
    "The first part of data we need is: Time and Sales. The time and sales are shown to traders as rows of data flowing downward like a water fall. This 'water fall' is refered to as the \"tape\" my most traders. As a new order is executed, it is added to the very top of the tape assuming that we it sorted by time. \n",
    "\n",
    "Each row of this time and sales (tape), has the following information of the execution: \n",
    "- Price executed (average price)\n",
    "- Size\n",
    "- Time\n",
    "- Exchange\n",
    "- Bid\n",
    "- Ask\n",
    "- Tick (up or down or neutral)...for human visualization, the machine will not need this\n",
    "\n",
    "\n",
    "It is interesting to think about which variables we will cut out because they were made only for humans. For example, my tape is colored green when the trades are executing at the ASK, meaning that buyers are in control, and when the sellers are hitting the BID my tape will show red for each execution that is on the ask. This is something that a bot will not need. \n",
    "\n",
    "I also don't use all of these indicators on my tape. For example, I don't inlcude time on my tape because I don't have the brain power to be able to factor time into my trading decisions; I would be difficult/impossible for me to calculate fluctuations in the differences between the time of each execution, and then use those calculations to add to my trading decision. It would be particularily difficult when the tape is moving so fast that it is 'skipping', where large order blocks come in so fast that the 'waterfall' starts to look more like a 'flashing screen' of changing orders.\n",
    "\n",
    "A bot, however, should be able to monitor the time difference fluxuations, and similar cases of variables that a human simply does not have enough brain power/time to compute. This idea is essentially the basis of the project.\n",
    "\n",
    "So, in terms of time and sales data: Lets search the web to see what's out there.\n",
    "\n"
   ]
  },
  {
   "cell_type": "markdown",
   "metadata": {},
   "source": [
    "Ok, we found at least one place to source the data. \n",
    "- NYSE data products. Gives exactly what we need and much more. Tape of all orders throughout the day, which includes size, price, time, date. \n",
    "    - Ok, order submitted for data at this place. Now we wait for their contact. I still have not gotten a price quote.\n",
    "\n",
    "After browsing the web for potential data sources, I found that there is plenty of data available for our use. So, my current problem is not a lack of data, but rather one of over-complication, and lack of direction. I have been brainstorming too much. I am overwhelmed with all of the potential variables that I want my trading bot to include.\n",
    "\n",
    "Therefore, I will start off by using data that I am familiar with. and that is more easily obtainable than the time and sales or the offers on the bid/ask; Open High Low Close(OHLC) data. \n",
    "\n",
    "From here, I want to get an algorithm running first in a simulation, then live. \n",
    "\n",
    "After the algorithm is implemented, then we can start tuning it with a lot more data.\n",
    "\n",
    "We need to get started to overcome our problem of having so many moving parts that we can't even begin.\n",
    "\n",
    "\n",
    "Let's go to the implementation using open-low-high-close data. (implementation_with_ohlo_data.ipynb)\n",
    "[Next->](implementation_with_ohlc_data.ipynb)"
   ]
  }
 ],
 "metadata": {
  "language_info": {
   "name": "python"
  }
 },
 "nbformat": 4,
 "nbformat_minor": 2
}
